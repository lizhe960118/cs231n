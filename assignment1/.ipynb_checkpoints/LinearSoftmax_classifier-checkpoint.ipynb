{
 "cells": [
  {
   "cell_type": "code",
   "execution_count": 1,
   "metadata": {},
   "outputs": [],
   "source": [
    "import random\n",
    "import numpy as np\n",
    "from cs231n.data_utils import load_CIFAR10\n",
    "import matplotlib.pyplot as plt\n",
    "\n",
    "%matplotlib inline\n",
    "plt.rcParams['figure.figsize'] = (10.0, 8.0) # set default size of plots\n",
    "plt.rcParams['image.interpolation'] = 'nearest'\n",
    "plt.rcParams['image.cmap'] = 'gray'\n",
    "\n",
    "%load_ext autoreload\n",
    "%autoreload 2"
   ]
  },
  {
   "cell_type": "markdown",
   "metadata": {},
   "source": [
    "## 加载数据"
   ]
  },
  {
   "cell_type": "code",
   "execution_count": 2,
   "metadata": {},
   "outputs": [
    {
     "name": "stdout",
     "output_type": "stream",
     "text": [
      "Training data shape:  (50000, 32, 32, 3)\n",
      "Training labels shape:  (50000,)\n",
      "Test data shape:  (10000, 32, 32, 3)\n",
      "Test labels shape:  (10000,)\n"
     ]
    }
   ],
   "source": [
    "cifar10_dir = 'cs231n/datasets/cifar-10-batches-py'\n",
    "X_train, y_train, X_test, y_test = load_CIFAR10(cifar10_dir)\n",
    "\n",
    "print('Training data shape: ', X_train.shape)\n",
    "print('Training labels shape: ', y_train.shape)\n",
    "print('Test data shape: ', X_test.shape)\n",
    "print('Test labels shape: ', y_test.shape)"
   ]
  },
  {
   "cell_type": "markdown",
   "metadata": {},
   "source": [
    "## 拆分数据"
   ]
  },
  {
   "cell_type": "code",
   "execution_count": 3,
   "metadata": {},
   "outputs": [
    {
     "name": "stdout",
     "output_type": "stream",
     "text": [
      "Train data shape:  (49000, 32, 32, 3)\n",
      "Train labels shape:  (49000,)\n",
      "Validation data shape:  (1000, 32, 32, 3)\n",
      "Validation labels shape:  (1000,)\n",
      "Test data shape:  (1000, 32, 32, 3)\n",
      "Test labels shape:  (1000,)\n"
     ]
    }
   ],
   "source": [
    "num_training = 49000\n",
    "num_validation = 1000\n",
    "num_test = 1000\n",
    "num_dev = 500\n",
    "\n",
    "mask = range(num_training, num_training + num_validation)\n",
    "X_val = X_train[mask]\n",
    "y_val = y_train[mask]\n",
    "\n",
    "mask = range(num_training)\n",
    "X_train = X_train[mask]\n",
    "y_train = y_train[mask]\n",
    "\n",
    "mask = np.random.choice(num_training, num_dev, replace=False)\n",
    "X_dev = X_train[mask]\n",
    "y_dev = y_train[mask]\n",
    "\n",
    "mask = range(num_test)\n",
    "X_test = X_test[mask]\n",
    "y_test = y_test[mask]\n",
    "\n",
    "print('Train data shape: ', X_train.shape)\n",
    "print('Train labels shape: ', y_train.shape)\n",
    "print('Validation data shape: ', X_val.shape)\n",
    "print('Validation labels shape: ', y_val.shape)\n",
    "print('Test data shape: ', X_test.shape)\n",
    "print('Test labels shape: ', y_test.shape)"
   ]
  },
  {
   "cell_type": "markdown",
   "metadata": {},
   "source": [
    "## 将图片转换为数列特征"
   ]
  },
  {
   "cell_type": "code",
   "execution_count": 5,
   "metadata": {},
   "outputs": [
    {
     "name": "stdout",
     "output_type": "stream",
     "text": [
      "(49000, 3073) (1000, 3073) (1000, 3073) (500, 3073)\n"
     ]
    }
   ],
   "source": [
    "X_train = np.reshape(X_train, (X_train.shape[0], -1))\n",
    "X_val = np.reshape(X_val, (X_val.shape[0], -1))\n",
    "X_test = np.reshape(X_test, (X_test.shape[0], -1))\n",
    "X_dev = np.reshape(X_dev, (X_dev.shape[0], -1))\n",
    "\n",
    "mean_image = np.mean(X_train, axis=0)\n",
    "\n",
    "X_train -= mean_image\n",
    "X_val -= mean_image\n",
    "X_test -= mean_image\n",
    "X_dev -= mean_image\n",
    "\n",
    "X_train = np.hstack([X_train, np.ones((X_train.shape[0], 1))])\n",
    "X_val = np.hstack([X_val, np.ones((X_val.shape[0], 1))])\n",
    "X_test = np.hstack([X_test, np.ones((X_test.shape[0], 1))])\n",
    "X_dev = np.hstack([X_dev, np.ones((X_dev.shape[0], 1))])\n",
    "\n",
    "print(X_train.shape, X_val.shape, X_test.shape, X_dev.shape)"
   ]
  },
  {
   "cell_type": "markdown",
   "metadata": {},
   "source": [
    "## 使用softmax进行分类"
   ]
  },
  {
   "cell_type": "code",
   "execution_count": 11,
   "metadata": {},
   "outputs": [
    {
     "name": "stdout",
     "output_type": "stream",
     "text": [
      "loss: 2.382867\n"
     ]
    }
   ],
   "source": [
    "from cs231n.classifiers.linear_softmax import softmax_loss_naive\n",
    "\n",
    "# 生成权重矩阵\n",
    "W = np.random.randn(3073, 10) * 0.0001 \n",
    "\n",
    "loss, grad = softmax_loss_naive(W, X_dev, y_dev, 0.00001)\n",
    "\n",
    "print('loss: %f' % (loss, ))"
   ]
  },
  {
   "cell_type": "code",
   "execution_count": 15,
   "metadata": {},
   "outputs": [
    {
     "name": "stdout",
     "output_type": "stream",
     "text": [
      "loss: 2.337980\n"
     ]
    }
   ],
   "source": [
    "from cs231n.classifiers.linear_softmax import softmax_loss_vectorized\n",
    "\n",
    "W = np.random.randn(3073, 10) * 0.0001 \n",
    "\n",
    "loss, grad = softmax_loss_vectorized(W, X_dev, y_dev, 0.00001)\n",
    "print('loss: %f' % (loss, ))"
   ]
  },
  {
   "cell_type": "code",
   "execution_count": 14,
   "metadata": {},
   "outputs": [
    {
     "data": {
      "text/plain": [
       "array([5, 7, 9])"
      ]
     },
     "execution_count": 14,
     "metadata": {},
     "output_type": "execute_result"
    }
   ],
   "source": [
    "a = np.array([[1, 2, 3], [4, 5, 6]])\n",
    "b = np.sum(a, axis=0)\n",
    "b"
   ]
  },
  {
   "cell_type": "markdown",
   "metadata": {},
   "source": [
    "分别比较两种方式算loss和算gradient的时间"
   ]
  },
  {
   "cell_type": "code",
   "execution_count": 16,
   "metadata": {},
   "outputs": [
    {
     "name": "stdout",
     "output_type": "stream",
     "text": [
      "Naive loss: 2.337980e+00 computed in 0.079943s\n",
      "Vectorized loss: 2.337980e+00 computed in 0.001807s\n",
      "difference: -0.000000\n"
     ]
    }
   ],
   "source": [
    "import time \n",
    "tic = time.time()\n",
    "loss_naive, grad_naive = softmax_loss_naive(W, X_dev, y_dev, 0.00001)\n",
    "toc = time.time()\n",
    "print('Naive loss: %e computed in %fs' % (loss_naive, toc - tic))\n",
    "\n",
    "tic = time.time()\n",
    "loss_vectorized, _ = softmax_loss_vectorized(W, X_dev, y_dev, 0.00001)\n",
    "toc = time.time()\n",
    "# print(type(loss_vectorized))\n",
    "print('Vectorized loss: %e computed in %fs' % (loss_vectorized, toc - tic))\n",
    "\n",
    "print('difference: %f' % (loss_naive - loss_vectorized))"
   ]
  },
  {
   "cell_type": "code",
   "execution_count": 17,
   "metadata": {},
   "outputs": [
    {
     "name": "stdout",
     "output_type": "stream",
     "text": [
      "Naive loss and gradient: computed in 0.080079s\n",
      "Vectorized loss and gradient: computed in 0.001743s\n",
      "difference: 0.000000\n"
     ]
    }
   ],
   "source": [
    "tic = time.time()\n",
    "_, grad_naive = softmax_loss_naive(W, X_dev, y_dev, 0.00001)\n",
    "toc = time.time()\n",
    "print('Naive loss and gradient: computed in %fs' % (toc - tic))\n",
    "\n",
    "tic = time.time()\n",
    "_, grad_vectorized = softmax_loss_vectorized(W, X_dev, y_dev, 0.00001)\n",
    "toc = time.time()\n",
    "print('Vectorized loss and gradient: computed in %fs' % (toc - tic))\n",
    "\n",
    "difference = np.linalg.norm(grad_naive - grad_vectorized, ord='fro')\n",
    "print('difference: %f' % difference)"
   ]
  },
  {
   "cell_type": "markdown",
   "metadata": {},
   "source": [
    "## gradient check"
   ]
  },
  {
   "cell_type": "code",
   "execution_count": 19,
   "metadata": {},
   "outputs": [
    {
     "name": "stdout",
     "output_type": "stream",
     "text": [
      "numerical grad: 2.899974, analytic grad: 2.899973, the ralative error is 9.820972e-09\n",
      "numerical grad: -3.209616, analytic grad: -3.209616, the ralative error is 8.310835e-09\n",
      "numerical grad: -2.119202, analytic grad: -2.119202, the ralative error is 1.357799e-08\n",
      "numerical grad: -1.469589, analytic grad: -1.469589, the ralative error is 2.954034e-10\n",
      "numerical grad: 2.402086, analytic grad: 2.402086, the ralative error is 1.901425e-08\n",
      "numerical grad: 0.070050, analytic grad: 0.070050, the ralative error is 5.912009e-07\n",
      "numerical grad: 2.393652, analytic grad: 2.393652, the ralative error is 2.030530e-08\n",
      "numerical grad: 0.510575, analytic grad: 0.510575, the ralative error is 1.220793e-07\n",
      "numerical grad: 1.572482, analytic grad: 1.572482, the ralative error is 3.694842e-08\n",
      "numerical grad: 1.078064, analytic grad: 1.078064, the ralative error is 9.846348e-09\n"
     ]
    }
   ],
   "source": [
    "from cs231n.gradient_check import gradient_check\n",
    "\n",
    "# compute the analytic_grad\n",
    "loss, grad = softmax_loss_naive(W, X_dev, y_dev, 0.0)\n",
    "\n",
    "# compute the numerical_grad\n",
    "f = lambda w: softmax_loss_naive(w, X_dev, y_dev, 0.0)[0]\n",
    "grad_numerical = gradient_check(f, W, grad)"
   ]
  },
  {
   "cell_type": "code",
   "execution_count": 20,
   "metadata": {},
   "outputs": [
    {
     "name": "stdout",
     "output_type": "stream",
     "text": [
      "numerical grad: -1.971667, analytic grad: -1.971667, the ralative error is 4.222479e-08\n",
      "numerical grad: 0.740389, analytic grad: 0.740389, the ralative error is 6.418567e-08\n",
      "numerical grad: 0.801816, analytic grad: 0.801816, the ralative error is 9.505702e-08\n",
      "numerical grad: -3.549899, analytic grad: -3.549899, the ralative error is 2.769002e-09\n",
      "numerical grad: -0.763019, analytic grad: -0.763019, the ralative error is 8.194700e-08\n",
      "numerical grad: -2.363950, analytic grad: -2.363951, the ralative error is 2.357310e-08\n",
      "numerical grad: 0.095130, analytic grad: 0.095130, the ralative error is 2.055109e-07\n",
      "numerical grad: -1.394066, analytic grad: -1.394066, the ralative error is 1.750776e-08\n",
      "numerical grad: 0.360697, analytic grad: 0.360697, the ralative error is 3.336396e-08\n",
      "numerical grad: 1.005186, analytic grad: 1.005186, the ralative error is 6.162798e-08\n"
     ]
    }
   ],
   "source": [
    "# compute the analytic_grad\n",
    "loss, grad = softmax_loss_naive(W, X_dev, y_dev, 1e2)\n",
    "\n",
    "# compute the numerical_grad\n",
    "f = lambda w: softmax_loss_naive(w, X_dev, y_dev, 1e2)[0]\n",
    "grad_numerical = gradient_check(f, W, grad)"
   ]
  },
  {
   "cell_type": "markdown",
   "metadata": {},
   "source": [
    "## 调用SGD，测试模型"
   ]
  },
  {
   "cell_type": "code",
   "execution_count": 21,
   "metadata": {},
   "outputs": [
    {
     "name": "stdout",
     "output_type": "stream",
     "text": [
      "iteration 0 / 1500: loss 781.344027\n",
      "iteration 100 / 1500: loss 286.757371\n",
      "iteration 200 / 1500: loss 106.322487\n",
      "iteration 300 / 1500: loss 40.230527\n",
      "iteration 400 / 1500: loss 16.073215\n",
      "iteration 500 / 1500: loss 7.213367\n",
      "iteration 600 / 1500: loss 3.984222\n",
      "iteration 700 / 1500: loss 2.766508\n",
      "iteration 800 / 1500: loss 2.388228\n",
      "iteration 900 / 1500: loss 2.148706\n",
      "iteration 1000 / 1500: loss 2.135218\n",
      "iteration 1100 / 1500: loss 2.132123\n",
      "iteration 1200 / 1500: loss 2.081043\n",
      "iteration 1300 / 1500: loss 2.093587\n",
      "iteration 1400 / 1500: loss 2.083119\n",
      "The time spend is 2.195049s\n"
     ]
    }
   ],
   "source": [
    "from cs231n.classifiers.linear_classifier import LinearSoftmax\n",
    "\n",
    "softmax_model = LinearSoftmax()\n",
    "\n",
    "tic = time.time()\n",
    "loss_hint = softmax_model.train(X=X_train, y=y_train, learning_rate=1e-7, reg=5e4,num_iters=1500, verbose=True)\n",
    "toc = time.time()\n",
    "\n",
    "print('The time spend is %fs' % (toc - tic))"
   ]
  },
  {
   "cell_type": "code",
   "execution_count": 22,
   "metadata": {},
   "outputs": [
    {
     "data": {
      "image/png": "[encoded data removed]",
      "text/plain": [
       "<Figure size 432x288 with 1 Axes>"
      ]
     },
     "metadata": {},
     "output_type": "display_data"
    }
   ],
   "source": [
    "plt.plot(loss_hint)\n",
    "plt.xlabel(\"Iteration number\")\n",
    "plt.ylabel(\"Loss value\")\n",
    "plt.show()"
   ]
  },
  {
   "cell_type": "code",
   "execution_count": 23,
   "metadata": {},
   "outputs": [
    {
     "name": "stdout",
     "output_type": "stream",
     "text": [
      "training accuracy : 0.325857\n",
      "validation accuracy : 0.340000\n"
     ]
    }
   ],
   "source": [
    "y_train_pred = softmax_model.predict(X_train)\n",
    "print('training accuracy : %f' % (np.mean(y_train == y_train_pred),))\n",
    "\n",
    "y_val_pred = softmax_model.predict(X_val)\n",
    "print('validation accuracy : %f' % (np.mean(y_val == y_val_pred),))"
   ]
  },
  {
   "cell_type": "code",
   "execution_count": 24,
   "metadata": {},
   "outputs": [
    {
     "name": "stdout",
     "output_type": "stream",
     "text": [
      "when the learning rate is: 1.000000e-07, regularization strengths is : 5.200000e+04\n",
      "the training accuracy is: 0.371102, the validation accuracy is : 0.382000\n",
      "when the learning rate is: 1.000000e-07, regularization strengths is : 5.200000e+04\n",
      "the training accuracy is: 0.372510, the validation accuracy is : 0.386000\n",
      "when the learning rate is: 1.000000e-07, regularization strengths is : 5.200000e+04\n",
      "the training accuracy is: 0.373776, the validation accuracy is : 0.383000\n",
      "when the learning rate is: 1.000000e-07, regularization strengths is : 5.200000e+04\n",
      "the training accuracy is: 0.374388, the validation accuracy is : 0.397000\n",
      "when the learning rate is: 1.000000e-07, regularization strengths is : 5.200000e+04\n",
      "the training accuracy is: 0.369735, the validation accuracy is : 0.386000\n",
      "when the learning rate is: 1.000000e-07, regularization strengths is : 5.200000e+04\n",
      "the training accuracy is: 0.368571, the validation accuracy is : 0.393000\n",
      "when the learning rate is: 1.000000e-07, regularization strengths is : 5.200000e+04\n",
      "the training accuracy is: 0.367918, the validation accuracy is : 0.382000\n",
      "when the learning rate is: 1.000000e-07, regularization strengths is : 5.200000e+04\n",
      "the training accuracy is: 0.324020, the validation accuracy is : 0.340000\n",
      "when the learning rate is: 1.000000e-07, regularization strengths is : 5.200000e+04\n",
      "the training accuracy is: 0.336857, the validation accuracy is : 0.350000\n",
      "when the learning rate is: 1.000000e-07, regularization strengths is : 5.200000e+04\n",
      "the training accuracy is: 0.326755, the validation accuracy is : 0.336000\n",
      "when the learning rate is: 1.000000e-07, regularization strengths is : 5.200000e+04\n",
      "the training accuracy is: 0.333061, the validation accuracy is : 0.343000\n",
      "when the learning rate is: 1.000000e-07, regularization strengths is : 5.200000e+04\n",
      "the training accuracy is: 0.329061, the validation accuracy is : 0.333000\n",
      "when the learning rate is: 1.000000e-07, regularization strengths is : 5.200000e+04\n",
      "the training accuracy is: 0.324898, the validation accuracy is : 0.337000\n",
      "when the learning rate is: 2.000000e-07, regularization strengths is : 5.200000e+04\n",
      "the training accuracy is: 0.381714, the validation accuracy is : 0.398000\n",
      "when the learning rate is: 2.000000e-07, regularization strengths is : 5.200000e+04\n",
      "the training accuracy is: 0.377694, the validation accuracy is : 0.389000\n",
      "when the learning rate is: 2.000000e-07, regularization strengths is : 5.200000e+04\n",
      "the training accuracy is: 0.378265, the validation accuracy is : 0.388000\n",
      "when the learning rate is: 2.000000e-07, regularization strengths is : 5.200000e+04\n",
      "the training accuracy is: 0.372837, the validation accuracy is : 0.381000\n",
      "when the learning rate is: 2.000000e-07, regularization strengths is : 5.200000e+04\n",
      "the training accuracy is: 0.369041, the validation accuracy is : 0.386000\n",
      "when the learning rate is: 2.000000e-07, regularization strengths is : 5.200000e+04\n",
      "the training accuracy is: 0.372265, the validation accuracy is : 0.384000\n",
      "when the learning rate is: 2.000000e-07, regularization strengths is : 5.200000e+04\n",
      "the training accuracy is: 0.370653, the validation accuracy is : 0.386000\n",
      "when the learning rate is: 2.000000e-07, regularization strengths is : 5.200000e+04\n",
      "the training accuracy is: 0.325000, the validation accuracy is : 0.342000\n",
      "when the learning rate is: 2.000000e-07, regularization strengths is : 5.200000e+04\n",
      "the training accuracy is: 0.329673, the validation accuracy is : 0.343000\n",
      "when the learning rate is: 2.000000e-07, regularization strengths is : 5.200000e+04\n",
      "the training accuracy is: 0.334612, the validation accuracy is : 0.348000\n",
      "when the learning rate is: 2.000000e-07, regularization strengths is : 5.200000e+04\n",
      "the training accuracy is: 0.335102, the validation accuracy is : 0.347000\n",
      "when the learning rate is: 2.000000e-07, regularization strengths is : 5.200000e+04\n",
      "the training accuracy is: 0.327959, the validation accuracy is : 0.351000\n",
      "when the learning rate is: 2.000000e-07, regularization strengths is : 5.200000e+04\n",
      "the training accuracy is: 0.327510, the validation accuracy is : 0.337000\n",
      "when the learning rate is: 5.000000e-07, regularization strengths is : 5.200000e+04\n",
      "the training accuracy is: 0.381122, the validation accuracy is : 0.390000\n",
      "when the learning rate is: 5.000000e-07, regularization strengths is : 5.200000e+04\n",
      "the training accuracy is: 0.376020, the validation accuracy is : 0.376000\n",
      "when the learning rate is: 5.000000e-07, regularization strengths is : 5.200000e+04\n",
      "the training accuracy is: 0.377041, the validation accuracy is : 0.381000\n",
      "when the learning rate is: 5.000000e-07, regularization strengths is : 5.200000e+04\n",
      "the training accuracy is: 0.372122, the validation accuracy is : 0.384000\n",
      "when the learning rate is: 5.000000e-07, regularization strengths is : 5.200000e+04\n",
      "the training accuracy is: 0.374510, the validation accuracy is : 0.381000\n",
      "when the learning rate is: 5.000000e-07, regularization strengths is : 5.200000e+04\n",
      "the training accuracy is: 0.364878, the validation accuracy is : 0.380000\n",
      "when the learning rate is: 5.000000e-07, regularization strengths is : 5.200000e+04\n",
      "the training accuracy is: 0.354878, the validation accuracy is : 0.362000\n",
      "when the learning rate is: 5.000000e-07, regularization strengths is : 5.200000e+04\n",
      "the training accuracy is: 0.325837, the validation accuracy is : 0.346000\n",
      "when the learning rate is: 5.000000e-07, regularization strengths is : 5.200000e+04\n",
      "the training accuracy is: 0.315082, the validation accuracy is : 0.335000\n",
      "when the learning rate is: 5.000000e-07, regularization strengths is : 5.200000e+04\n",
      "the training accuracy is: 0.326531, the validation accuracy is : 0.334000\n",
      "when the learning rate is: 5.000000e-07, regularization strengths is : 5.200000e+04\n",
      "the training accuracy is: 0.325837, the validation accuracy is : 0.339000\n",
      "when the learning rate is: 5.000000e-07, regularization strengths is : 5.200000e+04\n",
      "the training accuracy is: 0.319796, the validation accuracy is : 0.339000\n",
      "when the learning rate is: 5.000000e-07, regularization strengths is : 5.200000e+04\n",
      "the training accuracy is: 0.331429, the validation accuracy is : 0.341000\n",
      "the best validation accuracy is: 0.398000\n"
     ]
    }
   ],
   "source": [
    "learning_rates = [1e-7, 2e-7, 5e-7]\n",
    "regularization_strengths = [(1+i*0.1)*1e4 for i in range(-3,4)] + [(5+0.1*i)*1e4 for i in range(-3,3)]\n",
    "\n",
    "results = {}\n",
    "best_val = -1\n",
    "best_softmax_model = None\n",
    "\n",
    "for rs in regularization_strengths:\n",
    "    for lr in learning_rates:\n",
    "        softmax_model = LinearSoftmax()\n",
    "        loss_hint = softmax_model.train(X=X_train, y=y_train, learning_rate=lr, reg=rs,num_iters=3000)\n",
    "        y_train_pred = softmax_model.predict(X_train)\n",
    "        training_accuracy = np.mean(y_train == y_train_pred)\n",
    "        y_val_pred = softmax_model.predict(X_val)\n",
    "        validation_accuracy = np.mean(y_val == y_val_pred)\n",
    "        if validation_accuracy > best_val:\n",
    "            best_val = validation_accuracy\n",
    "            best_softmax_model = softmax_model\n",
    "        results[(lr, rs)] = training_accuracy, validation_accuracy # {tuple : list}\n",
    "\n",
    "for lr, reg in sorted(results):\n",
    "    training_accuracy, validation_accuracy = results[(lr, reg)]\n",
    "    print('when the learning rate is: %e, regularization strengths is : %e' % (lr, rs))\n",
    "    print('the training accuracy is: %f, the validation accuracy is : %f' % (training_accuracy, validation_accuracy))\n",
    "    \n",
    "print('the best validation accuracy is: %f' % best_val)"
   ]
  },
  {
   "cell_type": "code",
   "execution_count": 25,
   "metadata": {},
   "outputs": [
    {
     "name": "stdout",
     "output_type": "stream",
     "text": [
      "test accuracy : 0.331429\n"
     ]
    }
   ],
   "source": [
    "y_test_pred = best_softmax_model.predict(X_test)\n",
    "test_accuracy = (np.mean(y_train == y_train_pred)) \n",
    "print('test accuracy : %f' % test_accuracy)"
   ]
  },
  {
   "cell_type": "code",
   "execution_count": 26,
   "metadata": {},
   "outputs": [
    {
     "data": {
      "image/png": "[encoded data removed]",
      "text/plain": [
       "<Figure size 432x288 with 10 Axes>"
      ]
     },
     "metadata": {},
     "output_type": "display_data"
    }
   ],
   "source": [
    "w = best_softmax_model.W[:-1, :]\n",
    "# W (D * C) 3072 * 10\n",
    "w = w.reshape(32, 32, 3, 10)\n",
    "w_min, w_max = np.min(w), np.max(w)\n",
    "\n",
    "classes = ['plane', 'car', 'bird', 'cat', 'deer', 'dog', 'frog', 'horse', 'ship', 'truck']\n",
    "\n",
    "for i in range(10):\n",
    "    plt.subplot(2, 5, i + 1)\n",
    "    w_img = 255 * (w[:, :, :, i].squeeze() - w_min)/ (w_max - w_min)\n",
    "    plt.imshow(w_img.astype('uint8'))\n",
    "    plt.title(classes[i])\n",
    "    plt.axis('off')"
   ]
  }
 ],
 "metadata": {
  "kernelspec": {
   "display_name": "Python 3",
   "language": "python",
   "name": "python3"
  },
  "language_info": {
   "codemirror_mode": {
    "name": "ipython",
    "version": 3
   },
   "file_extension": ".py",
   "mimetype": "text/x-python",
   "name": "python",
   "nbconvert_exporter": "python",
   "pygments_lexer": "ipython3",
   "version": "3.6.5"
  }
 },
 "nbformat": 4,
 "nbformat_minor": 2
}
